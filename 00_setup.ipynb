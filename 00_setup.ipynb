{
  "cells": [
    {
      "cell_type": "markdown",
      "metadata": {
        "id": "view-in-github",
        "colab_type": "text"
      },
      "source": [
        "<a href=\"https://colab.research.google.com/github/iArtificialPeru/WranglingModeling/blob/main/00_setup.ipynb\" target=\"_parent\"><img src=\"https://colab.research.google.com/assets/colab-badge.svg\" alt=\"Open In Colab\"/></a>"
      ]
    },
    {
      "cell_type": "markdown",
      "metadata": {
        "id": "uJI2P5iqWXbh"
      },
      "source": [
        "# Colab Setup with Google Drive"
      ]
    },
    {
      "cell_type": "code",
      "source": [
        "from google.colab import drive\n",
        "import os\n",
        "\n",
        "drive.mount('/content/drive/')\n",
        "os.chdir('/content/drive/MyDrive/GitHub/WranglingModeling')\n",
        "for item in os.listdir():\n",
        "  print(item)"
      ],
      "metadata": {
        "id": "G9lIVhDF8j6H",
        "outputId": "2c586bbd-572d-4866-a70b-551430a1e844",
        "colab": {
          "base_uri": "https://localhost:8080/"
        }
      },
      "execution_count": 1,
      "outputs": [
        {
          "output_type": "stream",
          "name": "stdout",
          "text": [
            "Mounted at /content/drive/\n",
            "README.md\n",
            "00_setup.ipynb\n",
            ".git\n"
          ]
        }
      ]
    },
    {
      "cell_type": "code",
      "source": [
        "notebooks = \"/content/drive/MyDrive/cloud/GitHub/AdvDataViz/Notebooks\"\n",
        "print(os.listdir(notebooks))\n",
        "print(\"--------------\")\n",
        "\n",
        "file = \"heart-disease.csv\"\n",
        "file_path = os.path.join(notebooks, file)\n",
        "with open(file_path, \"r\") as f:\n",
        "  contents = f.read()"
      ],
      "metadata": {
        "id": "g_lTff8m7-4X"
      },
      "execution_count": null,
      "outputs": []
    },
    {
      "cell_type": "code",
      "execution_count": null,
      "metadata": {
        "id": "gsXvz1pMWXbh",
        "outputId": "0a619744-c9b5-4595-81b6-be7ffa5eb3fc",
        "colab": {
          "base_uri": "https://localhost:8080/"
        }
      },
      "outputs": [
        {
          "output_type": "stream",
          "name": "stdout",
          "text": [
            "   age     sex  chest_pain  rest_bp  chol  max_hr  st_depr  heart_disease\n",
            "0   63  female           3      145   233     150      2.3              1\n",
            "1   37  female           2      130   250     187      3.5              1\n",
            "2   41    male           1      130   204     172      1.4              1\n",
            "3   56  female           1      120   236     178      0.8              1\n",
            "4   57    male           0      120   354     163      0.6              1\n"
          ]
        }
      ],
      "source": [
        "#df = pd.read_csv(\"heart-disease.csv\")\n",
        "\n",
        "df = pd.read_csv(file_path)\n",
        "print(df.head())\n"
      ]
    },
    {
      "cell_type": "code",
      "source": [],
      "metadata": {
        "id": "KOeSVQVvY-F-"
      },
      "execution_count": null,
      "outputs": []
    }
  ],
  "metadata": {
    "kernelspec": {
      "display_name": "Python 3 (ipykernel)",
      "language": "python",
      "name": "python3"
    },
    "language_info": {
      "codemirror_mode": {
        "name": "ipython",
        "version": 3
      },
      "file_extension": ".py",
      "mimetype": "text/x-python",
      "name": "python",
      "nbconvert_exporter": "python",
      "pygments_lexer": "ipython3",
      "version": "3.12.7"
    },
    "colab": {
      "provenance": [],
      "include_colab_link": true
    }
  },
  "nbformat": 4,
  "nbformat_minor": 0
}