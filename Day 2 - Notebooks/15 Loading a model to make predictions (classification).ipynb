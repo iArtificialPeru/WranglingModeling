{
  "cells": [
    {
      "cell_type": "markdown",
      "metadata": {
        "id": "view-in-github",
        "colab_type": "text"
      },
      "source": [
        "<a href=\"https://colab.research.google.com/github/iArtificialPeru/WranglingModeling/blob/main/Day%202%20-%20Notebooks/15%20Loading%20a%20model%20to%20make%20predictions%20(classification).ipynb\" target=\"_parent\"><img src=\"https://colab.research.google.com/assets/colab-badge.svg\" alt=\"Open In Colab\"/></a>"
      ]
    },
    {
      "cell_type": "markdown",
      "metadata": {
        "id": "7N8CqEgfwjZd"
      },
      "source": [
        "# Loading a Model to Make Predictions (classification)"
      ]
    },
    {
      "cell_type": "markdown",
      "metadata": {
        "id": "9u5q6qiUwjZe"
      },
      "source": [
        "---"
      ]
    },
    {
      "cell_type": "markdown",
      "metadata": {
        "id": "nRLkhWlLwjZe"
      },
      "source": [
        "## Predict Admission to Grad School\n",
        "Load the saved **classification** model to make predictions on a new applicant."
      ]
    },
    {
      "cell_type": "markdown",
      "metadata": {
        "id": "BlQOdnquwjZe"
      },
      "source": [
        "## Load the model"
      ]
    },
    {
      "cell_type": "code",
      "source": [
        "from google.colab import drive\n",
        "import os\n",
        "\n",
        "drive.mount('/content/drive/')\n",
        "\n",
        "os.chdir('/content/drive/MyDrive/GitHub/WranglingModeling/Day 2 - Notebooks')\n",
        "for item in os.listdir():\n",
        "  print(item)"
      ],
      "metadata": {
        "id": "ho9qcP93wmfF",
        "outputId": "f2c2b831-1a1f-4752-8cc2-8304fc5f39da",
        "colab": {
          "base_uri": "https://localhost:8080/"
        }
      },
      "execution_count": 1,
      "outputs": [
        {
          "output_type": "stream",
          "name": "stdout",
          "text": [
            "Mounted at /content/drive/\n",
            "titanic.csv\n",
            "grad_admit.csv\n",
            "prof_ratings.csv\n",
            "predict_grades.csv\n",
            "diabetes.csv\n",
            "heart-disease.csv\n",
            "grad_admit_.csv\n",
            "employee_attrition_.csv\n",
            "job_promotion_.csv\n",
            "06 Matplotlib - Exercise .ipynb\n",
            "18  The Data Science Process - Exercise.ipynb\n",
            "11 Feature Selection (Data Visualization).ipynb\n",
            "10 Feature Selection - Most Important Features.ipynb\n",
            "04 Data Transformation Exercise .ipynb\n",
            "09 Project Exercise .ipynb\n",
            "02 Imputation - Exercise .ipynb\n",
            "02 Imputation - Exercise Solutions.ipynb\n",
            "04 Data Transformation Exercise-Solutions.ipynb\n",
            "06 Matplotlib - Exercise Solutions.ipynb\n",
            "07 Data Visualization (Seaborn).ipynb\n",
            "08 Algorithms Example.ipynb\n",
            "09 Project Exercise- Solution.ipynb\n",
            "12 Feature Extraction (PCA).ipynb\n",
            "14 Saving a model (classification).ipynb\n",
            "15 Loading a model to make predictions (classification).ipynb\n",
            "13 Model evaluation walk through.ipynb\n",
            "16 Saving a model (regression).ipynb\n",
            "17 Loading a model to make predictions (regression).ipynb\n",
            "18 The Data Science Process - Exercise Solutions.ipynb\n",
            "01 Imputation.ipynb\n",
            "03 Data Transformation.ipynb\n",
            "05 Data Visualization (Matplotlib).ipynb\n",
            "scaler.pkl\n",
            "log_reg_model.joblib\n"
          ]
        }
      ]
    },
    {
      "cell_type": "code",
      "execution_count": 2,
      "metadata": {
        "id": "xUuD57uEwjZe"
      },
      "outputs": [],
      "source": [
        "import joblib\n",
        "\n",
        "classification_model = joblib.load('log_reg_model.joblib')"
      ]
    },
    {
      "cell_type": "markdown",
      "metadata": {
        "id": "0GbDYqeEwjZf"
      },
      "source": [
        "## Load the scaler"
      ]
    },
    {
      "cell_type": "code",
      "execution_count": 3,
      "metadata": {
        "id": "teF-DkcTwjZf"
      },
      "outputs": [],
      "source": [
        "# load the saved scaler (mean and standard deviation from the training set)\n",
        "stdsc = joblib.load('scaler.pkl')"
      ]
    },
    {
      "cell_type": "markdown",
      "metadata": {
        "id": "6YNvWXwSwjZf"
      },
      "source": [
        "---"
      ]
    },
    {
      "cell_type": "markdown",
      "metadata": {
        "id": "GG81rri9wjZf"
      },
      "source": [
        "# Make Predictions"
      ]
    },
    {
      "cell_type": "markdown",
      "metadata": {
        "id": "28ew1F2ywjZf"
      },
      "source": [
        "## Single prediction"
      ]
    },
    {
      "cell_type": "code",
      "execution_count": 4,
      "metadata": {
        "id": "GJ9BLI7DwjZf",
        "outputId": "c677f8ec-e543-4655-c260-766faa68a2dc",
        "colab": {
          "base_uri": "https://localhost:8080/"
        }
      },
      "outputs": [
        {
          "output_type": "execute_result",
          "data": {
            "text/plain": [
              "array([1])"
            ]
          },
          "metadata": {},
          "execution_count": 4
        }
      ],
      "source": [
        "applicant = [[320.  , 110.  ,   5.  ,   5.  ,   4.5 ,   3.72,   1.  ]] # applicant was admitted\n",
        "\n",
        "# Standardize the applicant's data using the mean and standard deviation from training dataset\n",
        "applicant_std = stdsc.transform(applicant)\n",
        "\n",
        "# Get prediction; returns an array\n",
        "classification_model.predict(applicant_std)"
      ]
    },
    {
      "cell_type": "markdown",
      "metadata": {
        "id": "TYzim1wtwjZf"
      },
      "source": [
        "#### Make prediction"
      ]
    },
    {
      "cell_type": "code",
      "execution_count": 5,
      "metadata": {
        "id": "ABndDThQwjZf",
        "outputId": "e8b6782f-0259-4ec2-bf72-6295cf51b94b",
        "colab": {
          "base_uri": "https://localhost:8080/"
        }
      },
      "outputs": [
        {
          "output_type": "stream",
          "name": "stdout",
          "text": [
            "You did it! You got in!!\n"
          ]
        }
      ],
      "source": [
        "prediction = classification_model.predict(applicant_std)[0] # extract the prediction from the array\n",
        "\n",
        "if prediction == 1:\n",
        "    print(\"You did it! You got in!!\")\n",
        "else:\n",
        "    print(\"Unfortunately, we are unable to admit you at this time.\")"
      ]
    },
    {
      "cell_type": "markdown",
      "metadata": {
        "id": "8Lt9RLazwjZf"
      },
      "source": [
        "### Output the probability that the applicant is admitted\n",
        "[probability of not being admitted,  probaility of being admitted]"
      ]
    },
    {
      "cell_type": "code",
      "execution_count": 6,
      "metadata": {
        "id": "HChGxwMtwjZf",
        "outputId": "d7f4e331-4ef9-47ab-826d-47ea0f508951",
        "colab": {
          "base_uri": "https://localhost:8080/"
        }
      },
      "outputs": [
        {
          "output_type": "execute_result",
          "data": {
            "text/plain": [
              "array([[0.01775557, 0.98224443]])"
            ]
          },
          "metadata": {},
          "execution_count": 6
        }
      ],
      "source": [
        "probability_of_admission = classification_model.predict_proba(applicant_std)\n",
        "probability_of_admission"
      ]
    },
    {
      "cell_type": "code",
      "execution_count": null,
      "metadata": {
        "id": "KsDcZIkxwjZf"
      },
      "outputs": [],
      "source": [
        "print(f\"The applicant's probability of being admitted is {round(probability_of_admission[0][1] * 100)}%.\")"
      ]
    },
    {
      "cell_type": "markdown",
      "metadata": {
        "id": "rvdQN_p1wjZg"
      },
      "source": [
        "---"
      ]
    },
    {
      "cell_type": "markdown",
      "metadata": {
        "id": "3w3vz2sWwjZg"
      },
      "source": [
        "## Batch predictions"
      ]
    },
    {
      "cell_type": "code",
      "execution_count": 7,
      "metadata": {
        "id": "tVhAmIIxwjZg",
        "outputId": "6fca9591-b47e-4a45-f2dd-fb25006ce6d2",
        "colab": {
          "base_uri": "https://localhost:8080/"
        }
      },
      "outputs": [
        {
          "output_type": "execute_result",
          "data": {
            "text/plain": [
              "array([1, 0, 0, 1])"
            ]
          },
          "metadata": {},
          "execution_count": 7
        }
      ],
      "source": [
        "applicants = [[320.  , 110.  ,   5.  ,   5.  ,   4.5 ,   3.72,   1.  ],  # applicant was admitted\n",
        "              [311.  ,  98.  ,   1.  ,   1.  ,   2.5 ,   3.01,   0.  ],  # applicant was not admitted\n",
        "              [307.  , 102.  ,   3.  ,   3.  ,   3.  ,   3.33,   0.  ],  # applicant was not admitted\n",
        "              [316.  , 109.  ,   4.  ,   4.5 ,   3.5 ,   3.53,   1.  ]]  # applicant was admitted\n",
        "\n",
        "\n",
        "# Standardize the applicants' data using the mean and standard deviation from training dataset\n",
        "applicant_std = stdsc.transform(applicants)\n",
        "\n",
        "# Get predictions; returns an array\n",
        "classification_model.predict(applicant_std)"
      ]
    },
    {
      "cell_type": "markdown",
      "metadata": {
        "id": "4_ZajmXWwjZg"
      },
      "source": [
        "#### Make batch predictions"
      ]
    },
    {
      "cell_type": "code",
      "execution_count": 8,
      "metadata": {
        "id": "-G58s1ZYwjZg",
        "outputId": "969e9584-9ddd-4c48-e30b-ccaf30f83b57",
        "colab": {
          "base_uri": "https://localhost:8080/"
        }
      },
      "outputs": [
        {
          "output_type": "stream",
          "name": "stdout",
          "text": [
            "You did it! You got in!!\n",
            "Unfortunately, we are unable to admit you at this time.\n",
            "Unfortunately, we are unable to admit you at this time.\n",
            "You did it! You got in!!\n"
          ]
        }
      ],
      "source": [
        "predictions = classification_model.predict(applicant_std)\n",
        "\n",
        "# Loop through the array of predictions\n",
        "for prediction in predictions:\n",
        "    if prediction == 1:\n",
        "        print(\"You did it! You got in!!\")\n",
        "    else:\n",
        "        print(\"Unfortunately, we are unable to admit you at this time.\")"
      ]
    },
    {
      "cell_type": "markdown",
      "metadata": {
        "id": "JiLDbm26wjZg"
      },
      "source": [
        "### Output the probability that the applicant is admitted\n",
        "\n",
        "[probability of not being admitted,  probaility of being admitted]"
      ]
    },
    {
      "cell_type": "code",
      "execution_count": 9,
      "metadata": {
        "id": "edgyuhgGwjZg",
        "outputId": "895e1bec-7649-46db-fcd4-1b2b692ef599",
        "colab": {
          "base_uri": "https://localhost:8080/"
        }
      },
      "outputs": [
        {
          "output_type": "execute_result",
          "data": {
            "text/plain": [
              "array([[0.01775557, 0.98224443],\n",
              "       [0.99878028, 0.00121972],\n",
              "       [0.94490062, 0.05509938],\n",
              "       [0.17100794, 0.82899206]])"
            ]
          },
          "metadata": {},
          "execution_count": 9
        }
      ],
      "source": [
        "probability_of_admission = classification_model.predict_proba(applicant_std)\n",
        "\n",
        "# Get probabilities; returns an array\n",
        "probability_of_admission"
      ]
    },
    {
      "cell_type": "code",
      "execution_count": 10,
      "metadata": {
        "id": "TF0uCkEpwjZg",
        "outputId": "a5de23ad-f81d-4682-eac9-7a6f8940bb5c",
        "colab": {
          "base_uri": "https://localhost:8080/"
        }
      },
      "outputs": [
        {
          "output_type": "stream",
          "name": "stdout",
          "text": [
            "The applicant's probability of being admitted is 98%.\n",
            "The applicant's probability of being admitted is 0%.\n",
            "The applicant's probability of being admitted is 6%.\n",
            "The applicant's probability of being admitted is 83%.\n"
          ]
        }
      ],
      "source": [
        "# Loop through the array of probabilities\n",
        "for probability in probability_of_admission:\n",
        "    print(f\"The applicant's probability of being admitted is {round(probability[1] * 100)}%.\")"
      ]
    },
    {
      "cell_type": "markdown",
      "metadata": {
        "id": "1pRw9KSBwjZg"
      },
      "source": [
        "---"
      ]
    },
    {
      "cell_type": "markdown",
      "metadata": {
        "id": "YMtM3zXowjZg"
      },
      "source": [
        "---"
      ]
    }
  ],
  "metadata": {
    "kernelspec": {
      "display_name": "Python 3 (ipykernel)",
      "language": "python",
      "name": "python3"
    },
    "language_info": {
      "codemirror_mode": {
        "name": "ipython",
        "version": 3
      },
      "file_extension": ".py",
      "mimetype": "text/x-python",
      "name": "python",
      "nbconvert_exporter": "python",
      "pygments_lexer": "ipython3",
      "version": "3.11.5"
    },
    "colab": {
      "provenance": [],
      "include_colab_link": true
    }
  },
  "nbformat": 4,
  "nbformat_minor": 0
}