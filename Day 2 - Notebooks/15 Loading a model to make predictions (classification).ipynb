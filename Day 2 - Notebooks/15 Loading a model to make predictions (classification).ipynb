{
 "cells": [
  {
   "cell_type": "markdown",
   "metadata": {},
   "source": [
    "# Loading a Model to Make Predictions (classification)"
   ]
  },
  {
   "cell_type": "markdown",
   "metadata": {},
   "source": [
    "---"
   ]
  },
  {
   "cell_type": "markdown",
   "metadata": {},
   "source": [
    "## Predict Admission to Grad School\n",
    "Load the saved **classification** model to make predictions on a new applicant."
   ]
  },
  {
   "cell_type": "markdown",
   "metadata": {},
   "source": [
    "## Load the model"
   ]
  },
  {
   "cell_type": "code",
   "execution_count": null,
   "metadata": {},
   "outputs": [],
   "source": [
    "import joblib\n",
    "\n",
    "classification_model = joblib.load('log_reg_model.joblib')"
   ]
  },
  {
   "cell_type": "markdown",
   "metadata": {},
   "source": [
    "## Load the scaler"
   ]
  },
  {
   "cell_type": "code",
   "execution_count": null,
   "metadata": {},
   "outputs": [],
   "source": [
    "# load the saved scaler (mean and standard deviation from the training set)\n",
    "stdsc = joblib.load('scaler.pkl')"
   ]
  },
  {
   "cell_type": "markdown",
   "metadata": {},
   "source": [
    "---"
   ]
  },
  {
   "cell_type": "markdown",
   "metadata": {},
   "source": [
    "# Make Predictions"
   ]
  },
  {
   "cell_type": "markdown",
   "metadata": {},
   "source": [
    "## Single prediction"
   ]
  },
  {
   "cell_type": "code",
   "execution_count": null,
   "metadata": {},
   "outputs": [],
   "source": [
    "applicant = [[320.  , 110.  ,   5.  ,   5.  ,   4.5 ,   3.72,   1.  ]] # applicant was admitted\n",
    "\n",
    "# Standardize the applicant's data using the mean and standard deviation from training dataset\n",
    "applicant_std = stdsc.transform(applicant)\n",
    "\n",
    "# Get prediction; returns an array\n",
    "classification_model.predict(applicant_std)"
   ]
  },
  {
   "cell_type": "markdown",
   "metadata": {},
   "source": [
    "#### Make prediction"
   ]
  },
  {
   "cell_type": "code",
   "execution_count": null,
   "metadata": {},
   "outputs": [],
   "source": [
    "prediction = classification_model.predict(applicant_std)[0] # extract the prediction from the array\n",
    "\n",
    "if prediction == 1:\n",
    "    print(\"You did it! You got in!!\")\n",
    "else:\n",
    "    print(\"Unfortunately, we are unable to admit you at this time.\")"
   ]
  },
  {
   "cell_type": "markdown",
   "metadata": {},
   "source": [
    "### Output the probability that the applicant is admitted\n",
    "[probability of not being admitted,  probaility of being admitted]"
   ]
  },
  {
   "cell_type": "code",
   "execution_count": null,
   "metadata": {},
   "outputs": [],
   "source": [
    "probability_of_admission = classification_model.predict_proba(applicant_std)\n",
    "probability_of_admission"
   ]
  },
  {
   "cell_type": "code",
   "execution_count": null,
   "metadata": {},
   "outputs": [],
   "source": [
    "print(f\"The applicant's probability of being admitted is {round(probability_of_admission[0][1] * 100)}%.\")"
   ]
  },
  {
   "cell_type": "markdown",
   "metadata": {},
   "source": [
    "---"
   ]
  },
  {
   "cell_type": "markdown",
   "metadata": {},
   "source": [
    "## Batch predictions"
   ]
  },
  {
   "cell_type": "code",
   "execution_count": null,
   "metadata": {},
   "outputs": [],
   "source": [
    "applicants = [[320.  , 110.  ,   5.  ,   5.  ,   4.5 ,   3.72,   1.  ],  # applicant was admitted\n",
    "              [311.  ,  98.  ,   1.  ,   1.  ,   2.5 ,   3.01,   0.  ],  # applicant was not admitted\n",
    "              [307.  , 102.  ,   3.  ,   3.  ,   3.  ,   3.33,   0.  ],  # applicant was not admitted\n",
    "              [316.  , 109.  ,   4.  ,   4.5 ,   3.5 ,   3.53,   1.  ]]  # applicant was admitted\n",
    "\n",
    "\n",
    "# Standardize the applicants' data using the mean and standard deviation from training dataset\n",
    "applicant_std = stdsc.transform(applicants)\n",
    "\n",
    "# Get predictions; returns an array\n",
    "classification_model.predict(applicant_std)"
   ]
  },
  {
   "cell_type": "markdown",
   "metadata": {},
   "source": [
    "#### Make batch predictions"
   ]
  },
  {
   "cell_type": "code",
   "execution_count": null,
   "metadata": {},
   "outputs": [],
   "source": [
    "predictions = classification_model.predict(applicant_std)\n",
    "\n",
    "# Loop through the array of predictions\n",
    "for prediction in predictions:\n",
    "    if prediction == 1:\n",
    "        print(\"You did it! You got in!!\")\n",
    "    else:\n",
    "        print(\"Unfortunately, we are unable to admit you at this time.\")"
   ]
  },
  {
   "cell_type": "markdown",
   "metadata": {},
   "source": [
    "### Output the probability that the applicant is admitted\n",
    "\n",
    "[probability of not being admitted,  probaility of being admitted]"
   ]
  },
  {
   "cell_type": "code",
   "execution_count": null,
   "metadata": {},
   "outputs": [],
   "source": [
    "probability_of_admission = classification_model.predict_proba(applicant_std)\n",
    "\n",
    "# Get probabilities; returns an array\n",
    "probability_of_admission"
   ]
  },
  {
   "cell_type": "code",
   "execution_count": null,
   "metadata": {},
   "outputs": [],
   "source": [
    "# Loop through the array of probabilities\n",
    "for probability in probability_of_admission:\n",
    "    print(f\"The applicant's probability of being admitted is {round(probability[1] * 100)}%.\")"
   ]
  },
  {
   "cell_type": "markdown",
   "metadata": {},
   "source": [
    "---"
   ]
  },
  {
   "cell_type": "markdown",
   "metadata": {},
   "source": [
    "---"
   ]
  }
 ],
 "metadata": {
  "kernelspec": {
   "display_name": "Python 3 (ipykernel)",
   "language": "python",
   "name": "python3"
  },
  "language_info": {
   "codemirror_mode": {
    "name": "ipython",
    "version": 3
   },
   "file_extension": ".py",
   "mimetype": "text/x-python",
   "name": "python",
   "nbconvert_exporter": "python",
   "pygments_lexer": "ipython3",
   "version": "3.11.5"
  }
 },
 "nbformat": 4,
 "nbformat_minor": 4
}
