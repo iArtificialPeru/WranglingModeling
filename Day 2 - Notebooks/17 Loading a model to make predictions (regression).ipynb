{
 "cells": [
  {
   "cell_type": "markdown",
   "metadata": {},
   "source": [
    "# Loading a Model to Make Predictions (regression)"
   ]
  },
  {
   "cell_type": "markdown",
   "metadata": {},
   "source": [
    "---"
   ]
  },
  {
   "cell_type": "markdown",
   "metadata": {},
   "source": [
    "## Predict a student's \"GRE Score\"\n",
    "Load the saved **regression** model to make predictions on a new student."
   ]
  },
  {
   "cell_type": "markdown",
   "metadata": {},
   "source": [
    "## Load the model"
   ]
  },
  {
   "cell_type": "code",
   "execution_count": null,
   "metadata": {},
   "outputs": [],
   "source": [
    "import joblib\n",
    "\n",
    "# load the saved model\n",
    "regression_model = joblib.load('lin_reg_model.joblib')"
   ]
  },
  {
   "cell_type": "markdown",
   "metadata": {},
   "source": [
    "## Load the scaler"
   ]
  },
  {
   "cell_type": "code",
   "execution_count": null,
   "metadata": {},
   "outputs": [],
   "source": [
    "# load the saved scaler  (mean and standard deviation from the training set)\n",
    "stdsc = joblib.load('scaler.pkl')"
   ]
  },
  {
   "cell_type": "markdown",
   "metadata": {},
   "source": [
    "---"
   ]
  },
  {
   "cell_type": "markdown",
   "metadata": {},
   "source": [
    "# Make Predictions"
   ]
  },
  {
   "cell_type": "markdown",
   "metadata": {},
   "source": [
    "### New student"
   ]
  },
  {
   "cell_type": "code",
   "execution_count": null,
   "metadata": {},
   "outputs": [],
   "source": [
    "new_student =[[110.  ,   5.  ,   5.  ,   4.5 ,   3.72,   1.  ,   1.  ]] # student scored 320 on GRE\n",
    "\n",
    "# Standardize the new data using the mean and standard deviation from training dataset\n",
    "new_student_std = stdsc.transform(new_student)\n",
    "\n",
    "# Make prediction                                                                      # rounding 2 places\n",
    "print(f\"The student's predicted GRE score is {round(regression_model.predict(new_student_std)[0], 2)}\")"
   ]
  },
  {
   "cell_type": "code",
   "execution_count": null,
   "metadata": {},
   "outputs": [],
   "source": [
    "new_student =[[102.  ,   3.  ,   3.  ,   3.  ,   3.33,   0.  ,   0.  ]] # student scored 307 on GRE\n",
    "\n",
    "# Standardize the new data using the mean and standard deviation from training dataset\n",
    "new_student_std = stdsc.transform(new_student)\n",
    "\n",
    "# Make prediction\n",
    "print(f\"The student's predicted GRE score is {round(regression_model.predict(new_student_std)[0], 2)}\")"
   ]
  },
  {
   "cell_type": "markdown",
   "metadata": {},
   "source": [
    "---"
   ]
  }
 ],
 "metadata": {
  "kernelspec": {
   "display_name": "Python 3 (ipykernel)",
   "language": "python",
   "name": "python3"
  },
  "language_info": {
   "codemirror_mode": {
    "name": "ipython",
    "version": 3
   },
   "file_extension": ".py",
   "mimetype": "text/x-python",
   "name": "python",
   "nbconvert_exporter": "python",
   "pygments_lexer": "ipython3",
   "version": "3.11.5"
  }
 },
 "nbformat": 4,
 "nbformat_minor": 4
}
