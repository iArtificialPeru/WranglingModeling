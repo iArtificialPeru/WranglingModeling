{
 "cells": [
  {
   "cell_type": "markdown",
   "metadata": {},
   "source": [
    "# Python Data Visualization (Matplotlib)"
   ]
  },
  {
   "cell_type": "code",
   "execution_count": null,
   "metadata": {},
   "outputs": [],
   "source": [
    "import pandas as pd\n",
    "import matplotlib.pyplot as plt"
   ]
  },
  {
   "cell_type": "markdown",
   "metadata": {},
   "source": [
    "### Dataset: Heart Disease"
   ]
  },
  {
   "cell_type": "code",
   "execution_count": null,
   "metadata": {},
   "outputs": [],
   "source": [
    "df = pd.read_csv(\"heart-disease.csv\")\n",
    "\n",
    "df.head()"
   ]
  },
  {
   "cell_type": "markdown",
   "metadata": {},
   "source": [
    "## Figures and Axes"
   ]
  },
  {
   "cell_type": "code",
   "execution_count": null,
   "metadata": {},
   "outputs": [],
   "source": [
    "# subplots() returns a figure and axis\n",
    "\n",
    "fig, ax = plt.subplots()   "
   ]
  },
  {
   "cell_type": "markdown",
   "metadata": {},
   "source": [
    "---"
   ]
  },
  {
   "cell_type": "markdown",
   "metadata": {},
   "source": [
    "# Line Plot"
   ]
  },
  {
   "cell_type": "code",
   "execution_count": null,
   "metadata": {},
   "outputs": [],
   "source": [
    "# Defaults to row index on x-axis\n",
    "\n",
    "fig, ax = plt.subplots()\n",
    "\n",
    "ax.plot(df[\"max_hr\"]);"
   ]
  },
  {
   "cell_type": "markdown",
   "metadata": {},
   "source": [
    "## Create multiple plots"
   ]
  },
  {
   "cell_type": "markdown",
   "metadata": {},
   "source": [
    "### Separate rows"
   ]
  },
  {
   "cell_type": "code",
   "execution_count": null,
   "metadata": {},
   "outputs": [],
   "source": [
    "# Render plots in separate axes;   subplots(n_rows, n_cols)\n",
    "# 2 rows\n",
    "\n",
    "fig, axes = plt.subplots(2)\n",
    "\n",
    "axes[0].plot(df[\"max_hr\"])\n",
    "axes[1].plot(df[\"age\"]);"
   ]
  },
  {
   "cell_type": "code",
   "execution_count": null,
   "metadata": {},
   "outputs": [],
   "source": [
    "# Unpack the axes into separate variables\n",
    "\n",
    "fig, (top, bot) = plt.subplots(2)\n",
    "\n",
    "top.plot(df[\"max_hr\"])\n",
    "bot.plot(df[\"age\"]);"
   ]
  },
  {
   "cell_type": "markdown",
   "metadata": {},
   "source": [
    "### Separate columns"
   ]
  },
  {
   "cell_type": "code",
   "execution_count": null,
   "metadata": {},
   "outputs": [],
   "source": [
    "# 1 row, 2 columns\n",
    "\n",
    "fig, (left, right) = plt.subplots(1,2)\n",
    "\n",
    "\n",
    "left.plot(df[\"max_hr\"])\n",
    "right.plot(df[\"age\"]);"
   ]
  },
  {
   "cell_type": "markdown",
   "metadata": {},
   "source": [
    "## Set the figsize"
   ]
  },
  {
   "cell_type": "code",
   "execution_count": null,
   "metadata": {},
   "outputs": [],
   "source": [
    "# Set the size of the figure           (figsize=(w, h))\n",
    "fig, (left, right) = plt.subplots(1,2, figsize=(15, 5))\n",
    "\n",
    "\n",
    "left.plot(df[\"max_hr\"])\n",
    "right.plot(df[\"age\"]);"
   ]
  },
  {
   "cell_type": "markdown",
   "metadata": {},
   "source": [
    "## Set properties"
   ]
  },
  {
   "cell_type": "code",
   "execution_count": null,
   "metadata": {},
   "outputs": [],
   "source": [
    "fig, ax = plt.subplots()\n",
    "\n",
    "ax.plot(df[\"max_hr\"]);\n",
    "\n",
    "# A more flexible way of setting properties\n",
    "ax.set_title(\"Line Plot\")\n",
    "ax.set_xlabel(\"Row Index\")\n",
    "ax.set_ylabel(\"Max HR\");"
   ]
  },
  {
   "cell_type": "code",
   "execution_count": null,
   "metadata": {},
   "outputs": [],
   "source": [
    "fig, ax = plt.subplots()\n",
    "\n",
    "ax.plot(df[\"max_hr\"]);\n",
    "\n",
    "# A more convenient way of setting properties\n",
    "ax.set(title=\"Line Plot\", xlabel=\"Row Index\", ylabel=\"Max HR\");"
   ]
  },
  {
   "cell_type": "markdown",
   "metadata": {},
   "source": [
    "---"
   ]
  },
  {
   "cell_type": "markdown",
   "metadata": {},
   "source": [
    "# Histogram\n",
    "Provides 10 bins by default."
   ]
  },
  {
   "cell_type": "code",
   "execution_count": null,
   "metadata": {},
   "outputs": [],
   "source": [
    "fig, ax = plt.subplots()\n",
    "\n",
    "ax.hist(df['age'], color='g', edgecolor='black')\n",
    "\n",
    "ax.set(xlabel=\"Age\", title=\"Histogram\");\n",
    "\n",
    "\n",
    "# The basic built-in colors:\n",
    "# b: blue\n",
    "# g: green\n",
    "# r: red\n",
    "# c: cyan\n",
    "# m: magenta\n",
    "# y: yellow\n",
    "# k: black\n",
    "# w: white\n"
   ]
  },
  {
   "cell_type": "markdown",
   "metadata": {},
   "source": [
    "### Set the number of bins to display"
   ]
  },
  {
   "cell_type": "code",
   "execution_count": null,
   "metadata": {},
   "outputs": [],
   "source": [
    "fig, ax = plt.subplots()\n",
    "\n",
    "ax.hist(df['age'], color = 'g', edgecolor='black', bins = 30)\n",
    "\n",
    "ax.set(xlabel=\"Age\", title=\"Histogram\");"
   ]
  },
  {
   "cell_type": "markdown",
   "metadata": {},
   "source": [
    "### Set a custom color\n",
    "\n",
    "[Named Colors](https://matplotlib.org/stable/gallery/color/named_colors.html)\n",
    "\n",
    "[HTML Color Codes](https://htmlcolorcodes.com)"
   ]
  },
  {
   "cell_type": "code",
   "execution_count": null,
   "metadata": {},
   "outputs": [],
   "source": [
    "fig, ax = plt.subplots()\n",
    "\n",
    "ax.hist(df['age'], color = '#00FFBD', edgecolor='black')\n",
    "\n",
    "ax.set(xlabel=\"Age\", title=\"Histogram\");"
   ]
  },
  {
   "cell_type": "markdown",
   "metadata": {},
   "source": [
    "---"
   ]
  },
  {
   "cell_type": "markdown",
   "metadata": {},
   "source": [
    "# Box Plot"
   ]
  },
  {
   "cell_type": "code",
   "execution_count": null,
   "metadata": {},
   "outputs": [],
   "source": [
    "fig, ax = plt.subplots()\n",
    "\n",
    "ax.boxplot(df['age'], labels=[\"Age\"]);"
   ]
  },
  {
   "cell_type": "markdown",
   "metadata": {},
   "source": [
    "---"
   ]
  },
  {
   "cell_type": "markdown",
   "metadata": {},
   "source": [
    "# Scatter Plot"
   ]
  },
  {
   "cell_type": "code",
   "execution_count": null,
   "metadata": {},
   "outputs": [],
   "source": [
    "fig, ax = plt.subplots()\n",
    "\n",
    "#              (x-axis,       y-axis,      alpha,    size,     color)\n",
    "ax.scatter(x=df['age'], y=df['max_hr'], alpha=.3, s = 100, c = \"black\")\n",
    " \n",
    "ax.set(title=\"Heart Disease\", xlabel='Age', ylabel=\"Max HR\");"
   ]
  },
  {
   "cell_type": "markdown",
   "metadata": {},
   "source": [
    "### Auto-set the colors based on class (target) membership\n",
    "The target variable must be an integer."
   ]
  },
  {
   "cell_type": "code",
   "execution_count": null,
   "metadata": {},
   "outputs": [],
   "source": [
    "fig, ax = plt.subplots()\n",
    "\n",
    "\n",
    "ax.scatter(x=df['age'], y=df['max_hr'], alpha=.3, s = 200, c = df[\"heart_disease\"])\n",
    "\n",
    "ax.set(title=\"Heart Disease\", xlabel='Age', ylabel=\"Max HR\");"
   ]
  },
  {
   "cell_type": "markdown",
   "metadata": {},
   "source": [
    "### Set the marker (shape)"
   ]
  },
  {
   "cell_type": "code",
   "execution_count": null,
   "metadata": {},
   "outputs": [],
   "source": [
    "fig, ax = plt.subplots()\n",
    "\n",
    "# sample markers: \"o\"(default), \"v\", \"^\", x\", \"P\", \"d\", \".\"\n",
    "ax.scatter(x=df['age'], y=df['max_hr'], alpha=.3, s = 200, c = df[\"heart_disease\"], marker=\"o\")\n",
    "\n",
    "ax.set(title=\"Heart Disease\", xlabel='Age', ylabel=\"Max HR\");\n",
    "\n",
    "#### Save the plot as .png or .pdf ####\n",
    "#plt.savefig(\"my_plot.pdf\")"
   ]
  },
  {
   "cell_type": "markdown",
   "metadata": {},
   "source": [
    "---"
   ]
  }
 ],
 "metadata": {
  "kernelspec": {
   "display_name": "Python 3 (ipykernel)",
   "language": "python",
   "name": "python3"
  },
  "language_info": {
   "codemirror_mode": {
    "name": "ipython",
    "version": 3
   },
   "file_extension": ".py",
   "mimetype": "text/x-python",
   "name": "python",
   "nbconvert_exporter": "python",
   "pygments_lexer": "ipython3",
   "version": "3.11.5"
  }
 },
 "nbformat": 4,
 "nbformat_minor": 4
}
